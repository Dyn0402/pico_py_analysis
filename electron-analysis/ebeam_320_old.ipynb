{
 "cells": [
  {
   "cell_type": "code",
   "execution_count": 1,
   "id": "aaf0ae63",
   "metadata": {},
   "outputs": [],
   "source": [
    "import uproot"
   ]
  },
  {
   "cell_type": "code",
   "execution_count": 2,
   "id": "7aaa44c7",
   "metadata": {},
   "outputs": [],
   "source": [
    "import numpy as np\n",
    "import matplotlib.pyplot as plt\n",
    "from matplotlib.patches import Rectangle\n",
    "import scipy.stats as sts\n",
    "from sklearn.neighbors import KernelDensity\n",
    "import seaborn as sns\n",
    "from scipy.optimize import curve_fit, minimize\n",
    "from copy import deepcopy\n",
    "import ctypes"
   ]
  },
  {
   "cell_type": "code",
   "execution_count": 3,
   "id": "e9fa8eee",
   "metadata": {},
   "outputs": [
    {
     "name": "stdout",
     "output_type": "stream",
     "text": [
      "Defaulting to user installation because normal site-packages is not writeable\n",
      "Requirement already satisfied: SciencePlots in /eos/home-a/akallits/.local/lib/python3.9/site-packages (2.1.0)\n",
      "Requirement already satisfied: matplotlib in /cvmfs/sft.cern.ch/lcg/views/LCG_103swan/x86_64-centos7-gcc11-opt/lib/python3.9/site-packages (from SciencePlots) (3.4.3)\n",
      "Requirement already satisfied: cycler>=0.10 in /cvmfs/sft.cern.ch/lcg/views/LCG_103swan/x86_64-centos7-gcc11-opt/lib/python3.9/site-packages (from matplotlib->SciencePlots) (0.10.0)\n",
      "Requirement already satisfied: kiwisolver>=1.0.1 in /cvmfs/sft.cern.ch/lcg/views/LCG_103swan/x86_64-centos7-gcc11-opt/lib/python3.9/site-packages (from matplotlib->SciencePlots) (1.0.1)\n",
      "Requirement already satisfied: numpy>=1.16 in /cvmfs/sft.cern.ch/lcg/views/LCG_103swan/x86_64-centos7-gcc11-opt/lib/python3.9/site-packages (from matplotlib->SciencePlots) (1.22.3)\n",
      "Requirement already satisfied: pillow>=6.2.0 in /cvmfs/sft.cern.ch/lcg/views/LCG_103swan/x86_64-centos7-gcc11-opt/lib/python3.9/site-packages (from matplotlib->SciencePlots) (8.2.0)\n",
      "Requirement already satisfied: pyparsing>=2.2.1 in /cvmfs/sft.cern.ch/lcg/views/LCG_103swan/x86_64-centos7-gcc11-opt/lib/python3.9/site-packages (from matplotlib->SciencePlots) (2.4.7)\n",
      "Requirement already satisfied: python-dateutil>=2.7 in /cvmfs/sft.cern.ch/lcg/views/LCG_103swan/x86_64-centos7-gcc11-opt/lib/python3.9/site-packages (from matplotlib->SciencePlots) (2.8.2)\n",
      "Requirement already satisfied: six in /cvmfs/sft.cern.ch/lcg/views/LCG_103swan/x86_64-centos7-gcc11-opt/lib/python3.9/site-packages (from cycler>=0.10->matplotlib->SciencePlots) (1.16.0)\n",
      "Requirement already satisfied: setuptools in /cvmfs/sft.cern.ch/lcg/views/LCG_103swan/x86_64-centos7-gcc11-opt/lib/python3.9/site-packages (from kiwisolver>=1.0.1->matplotlib->SciencePlots) (57.1.0)\n"
     ]
    }
   ],
   "source": [
    "!pip install SciencePlots"
   ]
  },
  {
   "cell_type": "code",
   "execution_count": 4,
   "id": "8f44f264",
   "metadata": {},
   "outputs": [
    {
     "ename": "OSError",
     "evalue": "'notebook' not found in the style library and input is not a valid URL or path; see `style.available` for list of available styles",
     "output_type": "error",
     "traceback": [
      "\u001b[0;31m---------------------------------------------------------------------------\u001b[0m",
      "\u001b[0;31mFileNotFoundError\u001b[0m                         Traceback (most recent call last)",
      "\u001b[0;32m/cvmfs/sft.cern.ch/lcg/views/LCG_103swan/x86_64-centos7-gcc11-opt/lib/python3.9/site-packages/matplotlib/style/core.py\u001b[0m in \u001b[0;36muse\u001b[0;34m(style)\u001b[0m\n\u001b[1;32m    114\u001b[0m             \u001b[0;32mtry\u001b[0m\u001b[0;34m:\u001b[0m\u001b[0;34m\u001b[0m\u001b[0;34m\u001b[0m\u001b[0m\n\u001b[0;32m--> 115\u001b[0;31m                 \u001b[0mrc\u001b[0m \u001b[0;34m=\u001b[0m \u001b[0mrc_params_from_file\u001b[0m\u001b[0;34m(\u001b[0m\u001b[0mstyle\u001b[0m\u001b[0;34m,\u001b[0m \u001b[0muse_default_template\u001b[0m\u001b[0;34m=\u001b[0m\u001b[0;32mFalse\u001b[0m\u001b[0;34m)\u001b[0m\u001b[0;34m\u001b[0m\u001b[0;34m\u001b[0m\u001b[0m\n\u001b[0m\u001b[1;32m    116\u001b[0m                 \u001b[0m_apply_style\u001b[0m\u001b[0;34m(\u001b[0m\u001b[0mrc\u001b[0m\u001b[0;34m)\u001b[0m\u001b[0;34m\u001b[0m\u001b[0;34m\u001b[0m\u001b[0m\n",
      "\u001b[0;32m/cvmfs/sft.cern.ch/lcg/views/LCG_103swan/x86_64-centos7-gcc11-opt/lib/python3.9/site-packages/matplotlib/__init__.py\u001b[0m in \u001b[0;36mrc_params_from_file\u001b[0;34m(fname, fail_on_error, use_default_template)\u001b[0m\n\u001b[1;32m    797\u001b[0m     \"\"\"\n\u001b[0;32m--> 798\u001b[0;31m     \u001b[0mconfig_from_file\u001b[0m \u001b[0;34m=\u001b[0m \u001b[0m_rc_params_in_file\u001b[0m\u001b[0;34m(\u001b[0m\u001b[0mfname\u001b[0m\u001b[0;34m,\u001b[0m \u001b[0mfail_on_error\u001b[0m\u001b[0;34m=\u001b[0m\u001b[0mfail_on_error\u001b[0m\u001b[0;34m)\u001b[0m\u001b[0;34m\u001b[0m\u001b[0;34m\u001b[0m\u001b[0m\n\u001b[0m\u001b[1;32m    799\u001b[0m \u001b[0;34m\u001b[0m\u001b[0m\n",
      "\u001b[0;32m/cvmfs/sft.cern.ch/lcg/views/LCG_103swan/x86_64-centos7-gcc11-opt/lib/python3.9/site-packages/matplotlib/__init__.py\u001b[0m in \u001b[0;36m_rc_params_in_file\u001b[0;34m(fname, transform, fail_on_error)\u001b[0m\n\u001b[1;32m    726\u001b[0m     \u001b[0mrc_temp\u001b[0m \u001b[0;34m=\u001b[0m \u001b[0;34m{\u001b[0m\u001b[0;34m}\u001b[0m\u001b[0;34m\u001b[0m\u001b[0;34m\u001b[0m\u001b[0m\n\u001b[0;32m--> 727\u001b[0;31m     \u001b[0;32mwith\u001b[0m \u001b[0m_open_file_or_url\u001b[0m\u001b[0;34m(\u001b[0m\u001b[0mfname\u001b[0m\u001b[0;34m)\u001b[0m \u001b[0;32mas\u001b[0m \u001b[0mfd\u001b[0m\u001b[0;34m:\u001b[0m\u001b[0;34m\u001b[0m\u001b[0;34m\u001b[0m\u001b[0m\n\u001b[0m\u001b[1;32m    728\u001b[0m         \u001b[0;32mtry\u001b[0m\u001b[0;34m:\u001b[0m\u001b[0;34m\u001b[0m\u001b[0;34m\u001b[0m\u001b[0m\n",
      "\u001b[0;32m/cvmfs/sft.cern.ch/lcg/releases/Python/3.9.12-9a1bc/x86_64-centos7-gcc11-opt/lib/python3.9/contextlib.py\u001b[0m in \u001b[0;36m__enter__\u001b[0;34m(self)\u001b[0m\n\u001b[1;32m    118\u001b[0m         \u001b[0;32mtry\u001b[0m\u001b[0;34m:\u001b[0m\u001b[0;34m\u001b[0m\u001b[0;34m\u001b[0m\u001b[0m\n\u001b[0;32m--> 119\u001b[0;31m             \u001b[0;32mreturn\u001b[0m \u001b[0mnext\u001b[0m\u001b[0;34m(\u001b[0m\u001b[0mself\u001b[0m\u001b[0;34m.\u001b[0m\u001b[0mgen\u001b[0m\u001b[0;34m)\u001b[0m\u001b[0;34m\u001b[0m\u001b[0;34m\u001b[0m\u001b[0m\n\u001b[0m\u001b[1;32m    120\u001b[0m         \u001b[0;32mexcept\u001b[0m \u001b[0mStopIteration\u001b[0m\u001b[0;34m:\u001b[0m\u001b[0;34m\u001b[0m\u001b[0;34m\u001b[0m\u001b[0m\n",
      "\u001b[0;32m/cvmfs/sft.cern.ch/lcg/views/LCG_103swan/x86_64-centos7-gcc11-opt/lib/python3.9/site-packages/matplotlib/__init__.py\u001b[0m in \u001b[0;36m_open_file_or_url\u001b[0;34m(fname)\u001b[0m\n\u001b[1;32m    704\u001b[0m             \u001b[0mencoding\u001b[0m \u001b[0;34m=\u001b[0m \u001b[0;34m\"utf-8\"\u001b[0m\u001b[0;34m\u001b[0m\u001b[0;34m\u001b[0m\u001b[0m\n\u001b[0;32m--> 705\u001b[0;31m         \u001b[0;32mwith\u001b[0m \u001b[0mopen\u001b[0m\u001b[0;34m(\u001b[0m\u001b[0mfname\u001b[0m\u001b[0;34m,\u001b[0m \u001b[0mencoding\u001b[0m\u001b[0;34m=\u001b[0m\u001b[0mencoding\u001b[0m\u001b[0;34m)\u001b[0m \u001b[0;32mas\u001b[0m \u001b[0mf\u001b[0m\u001b[0;34m:\u001b[0m\u001b[0;34m\u001b[0m\u001b[0;34m\u001b[0m\u001b[0m\n\u001b[0m\u001b[1;32m    706\u001b[0m             \u001b[0;32myield\u001b[0m \u001b[0mf\u001b[0m\u001b[0;34m\u001b[0m\u001b[0;34m\u001b[0m\u001b[0m\n",
      "\u001b[0;31mFileNotFoundError\u001b[0m: [Errno 2] No such file or directory: 'notebook'",
      "\nThe above exception was the direct cause of the following exception:\n",
      "\u001b[0;31mOSError\u001b[0m                                   Traceback (most recent call last)",
      "\u001b[0;32m/tmp/ipykernel_1117/4005961576.py\u001b[0m in \u001b[0;36m<module>\u001b[0;34m\u001b[0m\n\u001b[0;32m----> 1\u001b[0;31m \u001b[0mplt\u001b[0m\u001b[0;34m.\u001b[0m\u001b[0mstyle\u001b[0m\u001b[0;34m.\u001b[0m\u001b[0muse\u001b[0m\u001b[0;34m(\u001b[0m\u001b[0;34m[\u001b[0m\u001b[0;34m'notebook'\u001b[0m\u001b[0;34m,\u001b[0m \u001b[0;34m'science'\u001b[0m\u001b[0;34m]\u001b[0m\u001b[0;34m)\u001b[0m\u001b[0;34m\u001b[0m\u001b[0;34m\u001b[0m\u001b[0m\n\u001b[0m\u001b[1;32m      2\u001b[0m \u001b[0mplt\u001b[0m\u001b[0;34m.\u001b[0m\u001b[0mrcParams\u001b[0m\u001b[0;34m[\u001b[0m\u001b[0;34m'legend.frameon'\u001b[0m\u001b[0;34m]\u001b[0m \u001b[0;34m=\u001b[0m \u001b[0;32mTrue\u001b[0m\u001b[0;34m\u001b[0m\u001b[0;34m\u001b[0m\u001b[0m\n\u001b[1;32m      3\u001b[0m \u001b[0mplt\u001b[0m\u001b[0;34m.\u001b[0m\u001b[0mrcParams\u001b[0m\u001b[0;34m[\u001b[0m\u001b[0;34m'legend.title_fontsize'\u001b[0m\u001b[0;34m]\u001b[0m \u001b[0;34m=\u001b[0m \u001b[0;36m20\u001b[0m\u001b[0;34m\u001b[0m\u001b[0;34m\u001b[0m\u001b[0m\n\u001b[1;32m      4\u001b[0m \u001b[0mplt\u001b[0m\u001b[0;34m.\u001b[0m\u001b[0mrcParams\u001b[0m\u001b[0;34m[\u001b[0m\u001b[0;34m'axes.labelweight'\u001b[0m\u001b[0;34m]\u001b[0m \u001b[0;34m=\u001b[0m \u001b[0;34m'bold'\u001b[0m\u001b[0;34m\u001b[0m\u001b[0;34m\u001b[0m\u001b[0m\n\u001b[1;32m      5\u001b[0m \u001b[0mplt\u001b[0m\u001b[0;34m.\u001b[0m\u001b[0mrcParams\u001b[0m\u001b[0;34m[\u001b[0m\u001b[0;34m'axes.labelsize'\u001b[0m\u001b[0;34m]\u001b[0m \u001b[0;34m=\u001b[0m \u001b[0;36m20\u001b[0m\u001b[0;34m\u001b[0m\u001b[0;34m\u001b[0m\u001b[0m\n",
      "\u001b[0;32m/cvmfs/sft.cern.ch/lcg/views/LCG_103swan/x86_64-centos7-gcc11-opt/lib/python3.9/site-packages/matplotlib/style/core.py\u001b[0m in \u001b[0;36muse\u001b[0;34m(style)\u001b[0m\n\u001b[1;32m    116\u001b[0m                 \u001b[0m_apply_style\u001b[0m\u001b[0;34m(\u001b[0m\u001b[0mrc\u001b[0m\u001b[0;34m)\u001b[0m\u001b[0;34m\u001b[0m\u001b[0;34m\u001b[0m\u001b[0m\n\u001b[1;32m    117\u001b[0m             \u001b[0;32mexcept\u001b[0m \u001b[0mIOError\u001b[0m \u001b[0;32mas\u001b[0m \u001b[0merr\u001b[0m\u001b[0;34m:\u001b[0m\u001b[0;34m\u001b[0m\u001b[0;34m\u001b[0m\u001b[0m\n\u001b[0;32m--> 118\u001b[0;31m                 raise IOError(\n\u001b[0m\u001b[1;32m    119\u001b[0m                     \u001b[0;34m\"{!r} not found in the style library and input is not a \"\u001b[0m\u001b[0;34m\u001b[0m\u001b[0;34m\u001b[0m\u001b[0m\n\u001b[1;32m    120\u001b[0m                     \u001b[0;34m\"valid URL or path; see `style.available` for list of \"\u001b[0m\u001b[0;34m\u001b[0m\u001b[0;34m\u001b[0m\u001b[0m\n",
      "\u001b[0;31mOSError\u001b[0m: 'notebook' not found in the style library and input is not a valid URL or path; see `style.available` for list of available styles"
     ]
    }
   ],
   "source": [
    "plt.style.use(['notebook', 'science'])\n",
    "plt.rcParams['legend.frameon'] = True\n",
    "plt.rcParams['legend.title_fontsize'] = 20\n",
    "plt.rcParams['axes.labelweight'] = 'bold'\n",
    "plt.rcParams['axes.labelsize'] = 20\n",
    "plt.rcParams['text.usetex'] = False\n",
    "plt.rcParams['xtick.labelsize'] = 20\n",
    "plt.rcParams['ytick.labelsize'] = 20\n",
    "plt.rcParams['legend.framealpha'] = 1\n",
    "\n",
    "plt.rcParams['axes.titlesize'] = 22\n",
    "plt.rcParams['axes.titlelocation'] = 'left'\n",
    "plt.rcParams['axes.titleweight'] = 'bold'\n",
    "\n",
    "# plt.rcParams.keys()"
   ]
  },
  {
   "cell_type": "code",
   "execution_count": null,
   "id": "74d14f1d",
   "metadata": {},
   "outputs": [],
   "source": [
    "import ROOT"
   ]
  },
  {
   "cell_type": "code",
   "execution_count": null,
   "id": "23e0ba41",
   "metadata": {},
   "outputs": [],
   "source": [
    "from parametrize import fff, ffm"
   ]
  },
  {
   "cell_type": "code",
   "execution_count": null,
   "id": "aaf307fa",
   "metadata": {},
   "outputs": [],
   "source": [
    "def expo1(x, pars):\n",
    "    return ROOT.TMath.Exp(x[0]*pars[0]+pars[1])+pars[2]\n",
    "    \n",
    "def expo1_np(x, pars):\n",
    "    return np.exp(x*pars[0]+pars[1])+pars[2]\n",
    "\n",
    "\n",
    "def expo2(x, pars):\n",
    "    return ROOT.TMath.Exp(pars[0]*x[0] + pars[1]) + ROOT.TMath.Exp(pars[2]*x[0] + pars[3]) + pars[4]\n",
    "\n",
    "def expo2_np(x, pars):\n",
    "    return np.exp(pars[0]*x + pars[1]) + np.exp(pars[2]*x + pars[3]) + pars[4]\n",
    "\n",
    "def pol2(x, a, b, c):\n",
    "    return a*(x-b)*(x-b)+c"
   ]
  },
  {
   "cell_type": "code",
   "execution_count": null,
   "id": "aea9abe5",
   "metadata": {},
   "outputs": [],
   "source": [
    "cc_sat = ROOT.TCanvas('sat_fit','', 1000, 800)\n",
    "def sat_fit(xpar, ypar, expar, eypar, iistart=0, iistop=None, xl=0.02, xu=0.5, pars=None):\n",
    "#     iistart, iistop = 0, None\n",
    "    cc_sat.cd(0)\n",
    "    grcci = ROOT.TGraphErrors(len(xpar[iistart:iistop]), xpar[iistart:iistop], ypar[iistart:iistop], expar[iistart:iistop], eypar[iistart:iistop])\n",
    "    grcci.SetNameTitle('grcci', ' ;Charge [pC];SAT [ps]')\n",
    "\n",
    "\n",
    "    fffi = ROOT.TF1('ffsat', expo2, xl, xu, 5)\n",
    "    wFiti = ROOT.Math.WrappedMultiTF1(fffi, 1);\n",
    "    fopt =  ROOT.Fit.DataOptions()\n",
    "    fopt.fCoordErrors = False\n",
    "    rangeB = ROOT.Fit.DataRange()\n",
    "    if iistop == None:\n",
    "        rangeB.SetRange(xpar[iistart], xpar[-1])\n",
    "    else:\n",
    "        rangeB.SetRange(xpar[iistart], xpar[iistop])\n",
    "    dataB = ROOT.Fit.BinData(fopt, rangeB);\n",
    "    ROOT.Fit.FillData(dataB, grcci);\n",
    "    chi2f = ROOT.Fit.Chi2Function(dataB, wFiti)\n",
    "\n",
    "    fitter = ROOT.Fit.Fitter()\n",
    "\n",
    "    par0 = np.array([-1.19593947e+01,  1.52272605e+01, -5.23861833e-01,  5.09975903e+00, 100])\n",
    "    if pars != None:\n",
    "        par0 = np.array(pars)\n",
    "        \n",
    "    fitter.Config().SetParamsSettings(5, par0)\n",
    "    fitter.Config().MinimizerOptions().SetPrintLevel(1)\n",
    "    fitter.Config().MinimizerOptions().SetMaxFunctionCalls(100000) # for Minuit/Minuit2\n",
    "    fitter.Config().MinimizerOptions().SetMaxIterations(10000) # for GSL\n",
    "    fitter.Config().SetMinimizer(\"Minuit2\", \"Migrad\")\n",
    "\n",
    "    fitter.FitFCN(chi2f)\n",
    "    result = fitter.Result()\n",
    "\n",
    "    parsi = np.zeros(5)\n",
    "    for i in range(5):\n",
    "        parsi[i] = fffi.GetParameter(i)\n",
    "#     print(parsi)\n",
    "\n",
    "\n",
    "    grcci.GetListOfFunctions().Add(fffi)\n",
    "    grcci.DrawClone('ap')\n",
    "\n",
    "    cc_sat.Draw()\n",
    "    return parsi"
   ]
  },
  {
   "cell_type": "code",
   "execution_count": null,
   "id": "ff5f23ed",
   "metadata": {},
   "outputs": [],
   "source": [
    "def weird_gaussian( x, p ):\n",
    "    #c, mu1, mu2, sigma = params\n",
    "    res =   p[0] * (np.exp( - (x[0] - p[1])**2.0 / (2.0 * p[3]**2.0) ) \\\n",
    "          + np.exp( - (x[0] - p[2])**2.0 / (2.0 * p[3]**2.0) ))\n",
    "    return res\n",
    "\n",
    "def weirdo_gaussian( x, *p ):\n",
    "    c, mu1, mu2, sigma = p\n",
    "    res =   c * (np.exp( - (x - mu1)**2.0 / (2.0 * sigma**2.0) ) \\\n",
    "          + np.exp( - (x - mu2)**2.0 / (2.0 * sigma**2.0) ))\n",
    "    return res\n",
    "\n",
    "def parabola( x, p ):\n",
    "    res =   p[0] * (x[0]-p[1])**2 +p[2]\n",
    "    return res\n",
    "\n",
    "def parabolic( x, *p ):\n",
    "    a, mu, b = p\n",
    "    res =   a*(x-mu)**2+b\n",
    "    return res\n",
    "\n",
    "def sym_to_beam(xy , theta):\n",
    "    x,y = xy\n",
    "    return (x*np.cos(theta)+y*np.sin(theta), -x*np.sin(theta)+y*np.cos(theta))"
   ]
  },
  {
   "cell_type": "code",
   "execution_count": null,
   "id": "54f54b93",
   "metadata": {},
   "outputs": [],
   "source": [
    "# scan_files = {'/eos/home-i/iangelis/RD51/code/ebeam/analysis/July2023/Run320/run320_merged.root':'Pico'}\n",
    "#scan_files = {'/eos/home-i/iangelis/RD51/code/ebeam/analysis/July2023/Run320/run320_merged_tracks.root':'Pico'}"
   ]
  },
  {
   "cell_type": "code",
   "execution_count": null,
   "id": "2ea3cef2",
   "metadata": {},
   "outputs": [],
   "source": [
    "scan_files = {'/eos/home-a/akallits/SWAN_projects/pico/run320_merged_tracks.root':'Pico'}"
   ]
  },
  {
   "cell_type": "code",
   "execution_count": null,
   "id": "7a927663",
   "metadata": {},
   "outputs": [],
   "source": [
    "vall = uproot.concatenate(scan_files,\n",
    "['mcp1_v', 'mcp1_q', 'mcp1_t', \\\n",
    "'mcp2_v', 'mcp2_q', 'mcp2_t', \\\n",
    "'mcp3_v', 'mcp3_q', 'mcp3_t', \\\n",
    "'mcp4_v', 'mcp4_q', 'mcp4_t', \\\n",
    "'mm1_v', 'mm1_qe', 'mm1_qall', 'mm1_t',\n",
    "'mm2_v', 'mm2_qe', 'mm2_qall', 'mm2_t',\n",
    "'mm3_v', 'mm3_qe', 'mm3_qall', 'mm3_t',\n",
    "'mm4_v', 'mm4_qe', 'mm4_qall', 'mm4_t',\n",
    "'mm5_v', 'mm5_qe', 'mm5_qall', 'mm5_t',\n",
    "'mm6_v', 'mm6_qe', 'mm6_qall', 'mm6_t',\n",
    "'mm7_v', 'mm7_qe', 'mm7_qall', 'mm7_t',\n",
    "'s1_gpeak', 's1_qe', 's1_qall', 's1_tnaive',\n",
    "'s2_gpeak', 's2_qe', 's2_qall', 's2_tnaive',\n",
    "'s3_gpeak', 's3_qe', 's3_qall', 's3_tnaive',\n",
    "'s4_gpeak', 's4_qe', 's4_qall', 's4_tnaive',\n",
    " 'ntracks'\n",
    "# 'ntracks', 'xy', 'track_flag'\n",
    "], library='np')\n"
   ]
  },
  {
   "cell_type": "code",
   "execution_count": null,
   "id": "8fc40943",
   "metadata": {},
   "outputs": [],
   "source": []
  },
  {
   "cell_type": "code",
   "execution_count": null,
   "id": "cda82fdb",
   "metadata": {},
   "outputs": [],
   "source": []
  },
  {
   "cell_type": "code",
   "execution_count": null,
   "id": "e636b9d1",
   "metadata": {},
   "outputs": [],
   "source": [
    "mcp1_v   = vall['mcp1_v']\n",
    "mcp1_q   = vall['mcp1_q']\n",
    "mcp1_t   = vall['mcp1_t']\n",
    "\n",
    "mcp2_v   = vall['mcp2_v']\n",
    "mcp2_q   = vall['mcp2_q']\n",
    "mcp2_t   = vall['mcp2_t']\n",
    "\n",
    "mcp3_v   = vall['mcp3_v']\n",
    "mcp3_q   = vall['mcp3_q']\n",
    "mcp3_t   = vall['mcp3_t']\n",
    "\n",
    "mcp4_v   = vall['mcp4_v']\n",
    "mcp4_q   = vall['mcp4_q']\n",
    "mcp4_t   = vall['mcp4_t']\n",
    "\n",
    "mm1_v    = vall['mm1_v']\n",
    "mm1_t    = vall['mm1_t']\n",
    "mm1_qe   = vall['mm1_qe']\n",
    "mm1_qall = vall['mm1_qall']\n",
    "\n",
    "mm2_v    = vall['mm2_v']\n",
    "mm2_t    = vall['mm2_t']\n",
    "mm2_qe   = vall['mm2_qe']\n",
    "mm2_qall = vall['mm2_qall']\n",
    "\n",
    "mm3_v    = vall['mm3_v']\n",
    "mm3_t    = vall['mm3_t']\n",
    "mm3_qe   = vall['mm3_qe']\n",
    "mm3_qall = vall['mm3_qall']\n",
    "\n",
    "mm4_v    = vall['mm4_v']\n",
    "mm4_t    = vall['mm4_t']\n",
    "mm4_qe   = vall['mm4_qe']\n",
    "mm4_qall = vall['mm4_qall']\n",
    "\n",
    "mm5_v    = vall['mm5_v']\n",
    "mm5_t    = vall['mm5_t']\n",
    "mm5_qe   = vall['mm5_qe']\n",
    "mm5_qall = vall['mm5_qall']\n",
    "\n",
    "mm6_v    = vall['mm6_v']\n",
    "mm6_t    = vall['mm6_t']\n",
    "mm6_qe   = vall['mm6_qe']\n",
    "mm6_qall = vall['mm6_qall']\n",
    "\n",
    "mm7_v    = vall['mm7_v']\n",
    "mm7_t    = vall['mm7_t']\n",
    "mm7_qe   = vall['mm7_qe']\n",
    "mm7_qall = vall['mm7_qall']"
   ]
  },
  {
   "cell_type": "code",
   "execution_count": null,
   "id": "6ba721db",
   "metadata": {},
   "outputs": [],
   "source": [
    "s1_v = vall['s1_gpeak']\n",
    "s2_v = vall['s2_gpeak']\n",
    "s3_v = vall['s3_gpeak']\n",
    "s4_v = vall['s4_gpeak']\n",
    "\n",
    "\n",
    "ss_v = [ s1_v, s2_v, s3_v, s4_v]"
   ]
  },
  {
   "cell_type": "code",
   "execution_count": null,
   "id": "a3bfd182",
   "metadata": {},
   "outputs": [],
   "source": [
    "# track_flag  = vall['track_flag']\n",
    "# valid_tracks = track_flag == 1\n",
    "ntracks = vall['ntracks']\n",
    "# xy = vall['xy']"
   ]
  },
  {
   "cell_type": "code",
   "execution_count": null,
   "id": "7086803a",
   "metadata": {},
   "outputs": [],
   "source": [
    "pad_order = [0,1,2,3,4,5,6]"
   ]
  },
  {
   "cell_type": "code",
   "execution_count": null,
   "id": "d5c48702",
   "metadata": {},
   "outputs": [],
   "source": [
    "dt1 = mm1_t - mcp1_t\n",
    "dt2 = mm2_t - mcp1_t\n",
    "dt3 = mm3_t - mcp2_t\n",
    "dt4 = mm4_t - mcp2_t\n",
    "dt5 = mm5_t - mcp3_t\n",
    "dt6 = mm6_t - mcp3_t\n",
    "dt7 = mm7_t - mcp4_t"
   ]
  },
  {
   "cell_type": "code",
   "execution_count": null,
   "id": "9d8719e6",
   "metadata": {},
   "outputs": [],
   "source": [
    "mcp_vs = [ mcp1_v, mcp2_v, mcp3_v, mcp4_v ]\n",
    "mcp_qs = [ mcp1_q, mcp2_q, mcp3_q, mcp4_q ]\n",
    "\n",
    "mm_vs = [ mm1_v,mm2_v,mm3_v,mm4_v,mm5_v,mm6_v,mm7_v ] \n",
    "mm_qes = [ mm1_qe,mm2_qe,mm3_qe,mm4_qe,mm5_qe,mm6_qe,mm7_qe ]\n",
    "mm_qalls = [ mm1_qall,mm2_qall,mm3_qall,mm4_qall,mm5_qall,mm6_qall,mm7_qall ]\n",
    "\n",
    "mm_dts = [ dt1, dt2, dt3, dt4, dt5, dt6, dt7 ]"
   ]
  },
  {
   "cell_type": "code",
   "execution_count": null,
   "id": "7e274d8e",
   "metadata": {},
   "outputs": [],
   "source": [
    "NPADS = 7"
   ]
  },
  {
   "cell_type": "code",
   "execution_count": null,
   "id": "0ade783c",
   "metadata": {},
   "outputs": [],
   "source": [
    "colors_mcp = ['black', 'maroon', 'blue', 'magenta']\n",
    "colors = ['red', 'blue', 'magenta', 'green', 'maroon', 'olive', 'yellow']\n",
    "pnames = ['Pad 1', 'Pad 2', 'Pad 3', 'Pad 4', 'Pad 5', 'Pad 6', 'Pad 7']"
   ]
  },
  {
   "cell_type": "code",
   "execution_count": null,
   "id": "c8bef0bf",
   "metadata": {},
   "outputs": [],
   "source": [
    "N = len(mcp1_v)\n",
    "print(N)"
   ]
  },
  {
   "cell_type": "code",
   "execution_count": null,
   "id": "b90d9610",
   "metadata": {},
   "outputs": [],
   "source": [
    "fig, axs = plt.subplots(figsize=(29, 15))\n",
    "for i in range(len(mcp_vs)):\n",
    "    axs.hist(mcp_vs[i], bins=100, range=(0.0, 0.8), histtype='step', color=colors_mcp[i], lw=2, label=f'MCP {i+1}')\n",
    "axs.set_yscale('log')\n",
    "axs.set_xlabel('Amplitude [V]')\n",
    "axs.set_title('MCPs')\n",
    "axs.legend()\n",
    "plt.show()"
   ]
  },
  {
   "cell_type": "code",
   "execution_count": null,
   "id": "9e24bb4b",
   "metadata": {},
   "outputs": [],
   "source": [
    "fig, axs = plt.subplots(2, 2, figsize=(29, 15))\n",
    "axs = axs.ravel()\n",
    "for i in range(len(mcp_vs)):\n",
    "    axs[i].hist(mcp_vs[i], bins=100, range=(0.0, 0.8), histtype='step', color=colors_mcp[i], lw=2, label=f'MCP {i+1}')\n",
    "    axs[i].set_yscale('log')\n",
    "    axs[i].set_xlabel('Amplitude [V]')\n",
    "    axs[i].set_title(f'MCP {i+1}')\n",
    "    axs[i].legend()\n",
    "plt.show()"
   ]
  },
  {
   "cell_type": "code",
   "execution_count": null,
   "id": "4742af15",
   "metadata": {},
   "outputs": [],
   "source": [
    "fig, axs = plt.subplots(figsize=(29, 15))\n",
    "for i in range(len(mcp_vs)):\n",
    "    axs.hist(mcp_qs[i], bins=100, range=(0.0, 15), histtype='step', color=colors_mcp[i], lw=2, label=f'MCP {i+1}')\n",
    "axs.set_yscale('log')\n",
    "axs.set_xlabel('Charge [pC]')\n",
    "axs.set_title('MCPs')\n",
    "axs.legend()\n",
    "plt.show()"
   ]
  },
  {
   "cell_type": "code",
   "execution_count": null,
   "id": "cee48569",
   "metadata": {},
   "outputs": [],
   "source": [
    "fig, axs = plt.subplots(2, 2, figsize=(29, 15))\n",
    "axs = axs.ravel()\n",
    "for i in range(len(mcp_vs)):\n",
    "    axs[i].hist(mcp_qs[i], bins=100, range=(0.0, 15), histtype='step', color=colors_mcp[i], lw=2, label=f'MCP {i+1}')\n",
    "    axs[i].set_yscale('log')\n",
    "    axs[i].set_xlabel('Charge [pC]')\n",
    "    axs[i].set_title(f'MCP {i+1}')\n",
    "    axs[i].legend()\n",
    "plt.show()"
   ]
  },
  {
   "cell_type": "code",
   "execution_count": null,
   "id": "7d8e268e",
   "metadata": {},
   "outputs": [],
   "source": [
    "fig, axs = plt.subplots(figsize=(29, 15))\n",
    "for i in range(len(mm_vs)):\n",
    "    axs.hist(mm_vs[i], bins=100, range=(0.0, 0.175), histtype='step', color=colors[i], lw=2, label=f'Pad {i+1}')\n",
    "# axs.set_yscale('log')\n",
    "axs.set_xlabel('Amplitude [V]')\n",
    "axs.set_title('MM Pads')\n",
    "axs.legend()\n",
    "plt.show()"
   ]
  },
  {
   "cell_type": "code",
   "execution_count": null,
   "id": "450341f8",
   "metadata": {},
   "outputs": [],
   "source": [
    "fig, axs = plt.subplots(4,2,figsize=(29, 25))\n",
    "axs=axs.ravel()\n",
    "for i in range(len(mm_vs)):\n",
    "    axs[i].hist(mm_vs[i], bins=100, range=(0.0, 0.175), histtype='step', color=colors[i], lw=2, label=f'Pad {i+1}')\n",
    "    axs[i].set_yscale('log')\n",
    "    axs[i].set_xlabel('Amplitude [V]')\n",
    "    axs[i].set_title(f'Pad {i+1}')\n",
    "    axs[i].legend()\n",
    "plt.show()"
   ]
  },
  {
   "cell_type": "code",
   "execution_count": null,
   "id": "af00c599",
   "metadata": {},
   "outputs": [],
   "source": [
    "fig, axs = plt.subplots(figsize=(29, 15))\n",
    "for i in range(len(mm_vs)):\n",
    "    axs.hist(mm_qes[i], bins=100, range=(0.0, 10), histtype='step', color=colors[i], lw=2, label=f'Pad {i+1}')\n",
    "axs.set_yscale('log')\n",
    "axs.set_xlabel('e-Peak Charge [pC]')\n",
    "axs.set_title('MM Pads')\n",
    "axs.legend()\n",
    "plt.show()"
   ]
  },
  {
   "cell_type": "code",
   "execution_count": null,
   "id": "698aaad0",
   "metadata": {},
   "outputs": [],
   "source": [
    "fig, axs = plt.subplots(4,2,figsize=(29, 25))\n",
    "axs=axs.ravel()\n",
    "for i in range(len(mm_vs)):\n",
    "    axs[i].hist(mm_qes[i], bins=100, range=(0.0, 10), histtype='step', color=colors[i], lw=2, label=f'Pad {i+1}')\n",
    "    axs[i].set_yscale('log')\n",
    "    axs[i].set_xlabel('e-Peak Charge [pC]')\n",
    "    axs[i].set_title(f'Pad {i+1}')\n",
    "    axs[i].legend()\n",
    "plt.show()"
   ]
  },
  {
   "cell_type": "code",
   "execution_count": null,
   "id": "75d1d7b6",
   "metadata": {},
   "outputs": [],
   "source": [
    "fig, axs = plt.subplots(2, 2, figsize=(29, 12))\n",
    "axs=axs.ravel()\n",
    "for i in range(len(ss_v)):\n",
    "    axs[i].hist(ss_v[i], bins=100, range=(0.0, 1), histtype='step', color=colors[i], lw=2, label=f'Scint {i+1}')\n",
    "#     axs[i].set_yscale('log')\n",
    "#     axs[i].set_xlabel('e-Peak Charge [pC]')\n",
    "#     axs[i].set_title(f'Pad {i+1}')\n",
    "    axs[i].legend()\n",
    "plt.show()"
   ]
  },
  {
   "cell_type": "code",
   "execution_count": null,
   "id": "01e33cbd",
   "metadata": {},
   "outputs": [],
   "source": [
    "fig, axs = plt.subplots(figsize=(29, 15))\n",
    "for i in range(len(mm_vs)):\n",
    "    axs.hist(mm_qalls[i], bins=100, range=(0.0, 50), histtype='step', color=colors[i], lw=2, label=f'Pad {i+1}')\n",
    "axs.set_yscale('log')\n",
    "axs.set_xlabel('Charge [pC]')\n",
    "axs.set_title('MM Pads')\n",
    "axs.legend()\n",
    "plt.show()"
   ]
  },
  {
   "cell_type": "code",
   "execution_count": null,
   "id": "fd297e18",
   "metadata": {},
   "outputs": [],
   "source": [
    "fig, axs = plt.subplots(4,2,figsize=(29, 25))\n",
    "axs=axs.ravel()\n",
    "for i in range(len(mm_vs)):\n",
    "    axs[i].hist(mm_qalls[i], bins=100, range=(0.0, 50), histtype='step', color=colors[i], lw=2, label=f'Pad {i+1}')\n",
    "    axs[i].set_yscale('log')\n",
    "    axs[i].set_xlabel('Charge [pC]')\n",
    "    axs[i].set_title(f'Pad {i+1}')\n",
    "    axs[i].legend()\n",
    "plt.show()"
   ]
  },
  {
   "cell_type": "code",
   "execution_count": null,
   "id": "a8610779",
   "metadata": {},
   "outputs": [],
   "source": [
    "fig, axs = plt.subplots(figsize=(25, 11))\n",
    "\n",
    "for i in range(len(mm_vs)):\n",
    "    axs.scatter(mm_vs[i], mm_qes[i], s=0.6, color=colors[i], label=f'Pad {i+1}')\n",
    "    \n",
    "axs.set_xlabel('Amplitude [V]')\n",
    "axs.set_ylabel('e-peak Charge [pC]')\n",
    "axs.set_xlim(0, 0.18)\n",
    "axs.set_ylim(0, 10)\n",
    "axs.legend()\n",
    "\n",
    "plt.show()"
   ]
  },
  {
   "cell_type": "code",
   "execution_count": null,
   "id": "ec9192f6",
   "metadata": {},
   "outputs": [],
   "source": [
    "fig, axs = plt.subplots(4,2,figsize=(29, 25))\n",
    "axs=axs.ravel()\n",
    "for i in range(len(mm_vs)):\n",
    "    axs[i].scatter(mm_vs[i], mm_qes[i], s=1, color=colors[i], label=f'Pad {i+1}')\n",
    "    \n",
    "    axs[i].set_xlabel('Amplitude [V]')\n",
    "    axs[i].set_ylabel('e-peak Charge [pC]')\n",
    "    axs[i].set_xlim(0, 0.18)\n",
    "    axs[i].set_ylim(0, 10)\n",
    "    axs[i].legend()\n",
    "    axs[i].set_title(f'Pad {i+1}')\n",
    "\n",
    "plt.show()"
   ]
  },
  {
   "cell_type": "code",
   "execution_count": null,
   "id": "ce4b6ded",
   "metadata": {},
   "outputs": [],
   "source": [
    "fig, axs = plt.subplots(figsize=(25, 11))\n",
    "\n",
    "for i in range(len(mm_vs)):\n",
    "    axs.scatter(mm_vs[i], mm_qalls[i], s=0.6, color=colors[i], label=f'Pad {i+1}')\n",
    "    \n",
    "axs.set_xlabel('Amplitude [V]')\n",
    "axs.set_ylabel('Charge [pC]')\n",
    "axs.set_xlim(0, 0.18)\n",
    "axs.set_ylim(0, 50)\n",
    "axs.legend()\n",
    "\n",
    "plt.show()"
   ]
  },
  {
   "cell_type": "code",
   "execution_count": null,
   "id": "4b8c32d0",
   "metadata": {},
   "outputs": [],
   "source": [
    "fig, axs = plt.subplots(4,2,figsize=(29, 25))\n",
    "axs=axs.ravel()\n",
    "for i in range(len(mm_vs)):\n",
    "    axs[i].scatter(mm_vs[i], mm_qalls[i], s=1, color=colors[i], label=f'Pad {i+1}')\n",
    "    \n",
    "    axs[i].set_xlabel('Amplitude [V]')\n",
    "    axs[i].set_ylabel('Charge [pC]')\n",
    "    axs[i].set_xlim(0, 0.18)\n",
    "    axs[i].set_ylim(0, 50)\n",
    "    axs[i].legend()\n",
    "    axs[i].set_title(f'Pad {i+1}')\n",
    "\n",
    "plt.show()"
   ]
  },
  {
   "cell_type": "code",
   "execution_count": null,
   "id": "87601f14",
   "metadata": {},
   "outputs": [],
   "source": [
    "mm1_cut = np.logical_and((mm1_v > 0.025),(mm1_v < 0.17))\n",
    "mm2_cut = np.logical_and((mm2_v > 0.025),(mm2_v < 0.17))\n",
    "mm3_cut = np.logical_and((mm3_v > 0.025),(mm3_v < 0.17))\n",
    "mm4_cut = np.logical_and((mm4_v > 0.025),(mm4_v < 0.17))\n",
    "mm5_cut = np.logical_and((mm5_v > 0.025),(mm5_v < 0.17))\n",
    "mm6_cut = np.logical_and((mm6_v > 0.025),(mm6_v < 0.17))\n",
    "mm7_cut = np.logical_and((mm7_v > 0.025),(mm7_v < 0.17))\n",
    "\n",
    "mmx_cut = [mm1_cut,mm2_cut,mm3_cut,mm4_cut,mm5_cut,mm6_cut,mm7_cut]"
   ]
  },
  {
   "cell_type": "code",
   "execution_count": null,
   "id": "f677c9cd",
   "metadata": {},
   "outputs": [],
   "source": [
    "fig, axs = plt.subplots(figsize=(29, 15))\n",
    "for i in range(len(mm_vs)):\n",
    "    axs.hist(mm_vs[i][mmx_cut[i]], bins=100, range=(0.0, 0.175), histtype='step', color=colors[i], lw=2, label=f'Pad {i+1}')\n",
    "# axs.set_yscale('log')\n",
    "axs.set_xlabel('Amplitude [V]')\n",
    "axs.set_title('MM Pads')\n",
    "axs.legend()\n",
    "plt.show()"
   ]
  },
  {
   "cell_type": "code",
   "execution_count": null,
   "id": "b9d30f4d",
   "metadata": {},
   "outputs": [],
   "source": [
    "mcp1_cut = np.logical_and((mcp1_v > 0.15),(mcp1_v < 0.7))\n",
    "mcp2_cut = np.logical_and((mcp2_v > 0.15),(mcp2_v < 0.7))\n",
    "mcp3_cut = np.logical_and((mcp3_v > 0.15),(mcp3_v < 0.7))\n",
    "mcp4_cut = np.logical_and((mcp4_v > 0.15),(mcp4_v < 0.7))\n",
    "\n",
    "mm1_cut = np.logical_and((mm1_v > 0.02),(mm1_v < 0.17))\n",
    "mm2_cut = np.logical_and((mm2_v > 0.02),(mm2_v < 0.17))\n",
    "mm3_cut = np.logical_and((mm3_v > 0.02),(mm3_v < 0.17))\n",
    "mm4_cut = np.logical_and((mm4_v > 0.02),(mm4_v < 0.17))\n",
    "mm5_cut = np.logical_and((mm5_v > 0.02),(mm5_v < 0.17))\n",
    "mm6_cut = np.logical_and((mm6_v > 0.02),(mm6_v < 0.17))\n",
    "mm7_cut = np.logical_and((mm7_v > 0.02),(mm7_v < 0.17))\n",
    "\n",
    "cc1 = np.logical_and(mcp1_cut, mm1_cut)\n",
    "cc2 = np.logical_and(mcp1_cut, mm2_cut)\n",
    "cc3 = np.logical_and(mcp2_cut, mm3_cut)\n",
    "cc4 = np.logical_and(mcp2_cut, mm4_cut)\n",
    "cc5 = np.logical_and(mcp3_cut, mm5_cut)\n",
    "cc6 = np.logical_and(mcp3_cut, mm6_cut)\n",
    "cc7 = np.logical_and(mcp4_cut, mm7_cut)\n",
    "\n",
    "mm_cuts = [mm1_cut,mm2_cut,mm3_cut,mm4_cut,mm5_cut,mm6_cut,mm7_cut]"
   ]
  },
  {
   "cell_type": "code",
   "execution_count": null,
   "id": "44f654d0",
   "metadata": {},
   "outputs": [],
   "source": []
  },
  {
   "cell_type": "code",
   "execution_count": null,
   "id": "a58cccd7",
   "metadata": {},
   "outputs": [],
   "source": [
    "tranges = [\n",
    "    [-8000,-7300],\n",
    "    [-12700, -12000],\n",
    "    [-12700, -12000],\n",
    "    [-8200,-7000],\n",
    "    [-2700, 1000],\n",
    "    [-12700, 10000],\n",
    "    [-9000,-8200],\n",
    "]"
   ]
  },
  {
   "cell_type": "code",
   "execution_count": null,
   "id": "ce7dbba8",
   "metadata": {
    "scrolled": false
   },
   "outputs": [],
   "source": [
    "ROOT.gStyle.SetOptFit(1111)\n",
    "c = ROOT.TCanvas(\"cc\", '', 1200, 1800)\n",
    "c.Divide(2, 4)\n",
    "\n",
    "ht1 = ROOT.TH1D('ht1', f'{pnames[0]};T [ps]', 100, -8000,-7300)\n",
    "ht1.FillN(np.count_nonzero(mm1_cut), 1e3*dt1[mm1_cut], 0, 1)\n",
    "\n",
    "ht2 = ROOT.TH1D('ht2', f'{pnames[1]};T [ps]', 100, -12700, -12000)\n",
    "ht2.FillN(np.count_nonzero(mm2_cut), 1e3*dt2[mm2_cut], 0, 1)\n",
    "\n",
    "ht3 = ROOT.TH1D('ht3', f'{pnames[2]};T [ps]', 100, -12700, -12000)\n",
    "ht3.FillN(np.count_nonzero(mm3_cut), 1e3*dt3[mm3_cut], 0, 1)\n",
    "\n",
    "ht4 = ROOT.TH1D('ht4', f'{pnames[3]};T [ps]', 100, -8200,-7000)\n",
    "ht4.FillN(np.count_nonzero(mm4_cut), 1e3*dt4[mm4_cut], 0, 1)\n",
    "\n",
    "ht5 = ROOT.TH1D('ht5', f'{pnames[4]};T [ps]', 100, -1500, -700)\n",
    "ht5.FillN(np.count_nonzero(mm5_cut), 1e3*dt5[mm5_cut], 0, 1)\n",
    "\n",
    "ht6 = ROOT.TH1D('ht6', f'{pnames[5]};T [ps]', 100,-1300, -800)\n",
    "ht6.FillN(np.count_nonzero(mm6_cut), 1e3*dt6[mm6_cut], 0, 1)\n",
    "\n",
    "ht7 = ROOT.TH1D('ht7', f'{pnames[6]};T [ps]', 100,-9000,-8200)\n",
    "ht7.FillN(np.count_nonzero(mm7_cut), 1e3*dt7[mm7_cut], 0, 1)\n",
    "\n",
    "c.cd(1)\n",
    "ht1.Draw()\n",
    "ht1.Fit('gaus')\n",
    "\n",
    "c.cd(2)\n",
    "ht2.Draw()\n",
    "ht2.Fit('gaus')\n",
    "\n",
    "c.cd(3)\n",
    "ht3.Draw()\n",
    "ht3.Fit('gaus')\n",
    "\n",
    "c.cd(4)\n",
    "ht4.Draw()\n",
    "ht4.Fit('gaus')\n",
    "\n",
    "c.cd(5)\n",
    "ht5.Draw()\n",
    "ht5.Fit('gaus')\n",
    "\n",
    "c.cd(6)\n",
    "ht6.Draw()\n",
    "ht6.Fit('gaus')\n",
    "\n",
    "c.cd(7)\n",
    "ht7.Draw()\n",
    "ht7.Fit('gaus')\n",
    "\n",
    "c.Draw()"
   ]
  },
  {
   "cell_type": "code",
   "execution_count": null,
   "id": "89b2a016",
   "metadata": {
    "scrolled": false
   },
   "outputs": [],
   "source": [
    "ROOT.gStyle.SetOptFit(1111)\n",
    "c = ROOT.TCanvas(\"cc\", '', 1200, 1800)\n",
    "c.Divide(2, 4)\n",
    "\n",
    "ht1 = ROOT.TH1D('ht1', f'{pnames[0]};T [ps]', 100, -8000,-7300)\n",
    "ht1.FillN(np.count_nonzero(cc1), 1e3*dt1[cc1], 0, 1)\n",
    "\n",
    "ht2 = ROOT.TH1D('ht2', f'{pnames[1]};T [ps]', 100, -12700, -12000)\n",
    "ht2.FillN(np.count_nonzero(cc2), 1e3*dt2[cc2], 0, 1)\n",
    "\n",
    "ht3 = ROOT.TH1D('ht3', f'{pnames[2]};T [ps]', 100, -12700, -12000)\n",
    "ht3.FillN(np.count_nonzero(cc3), 1e3*dt3[cc3], 0, 1)\n",
    "\n",
    "ht4 = ROOT.TH1D('ht4', f'{pnames[3]};T [ps]', 100, -8200,-7000)\n",
    "ht4.FillN(np.count_nonzero(cc4), 1e3*dt4[cc4], 0, 1)\n",
    "\n",
    "ht5 = ROOT.TH1D('ht5', f'{pnames[4]};T [ps]', 100, -1500, -700)\n",
    "ht5.FillN(np.count_nonzero(cc5), 1e3*dt5[cc5], 0, 1)\n",
    "\n",
    "ht6 = ROOT.TH1D('ht6', f'{pnames[5]};T [ps]', 100,-1300, -800)\n",
    "ht6.FillN(np.count_nonzero(cc6), 1e3*dt6[cc6], 0, 1)\n",
    "\n",
    "ht7 = ROOT.TH1D('ht7', f'{pnames[6]};T [ps]', 100,-9000,-8200)\n",
    "ht7.FillN(np.count_nonzero(cc7), 1e3*dt7[cc7], 0, 1)\n",
    "\n",
    "c.cd(1)\n",
    "ht1.Draw()\n",
    "ht1.Fit('gaus')\n",
    "\n",
    "c.cd(2)\n",
    "ht2.Draw()\n",
    "ht2.Fit('gaus')\n",
    "\n",
    "c.cd(3)\n",
    "ht3.Draw()\n",
    "ht3.Fit('gaus')\n",
    "\n",
    "c.cd(4)\n",
    "ht4.Draw()\n",
    "ht4.Fit('gaus')\n",
    "\n",
    "c.cd(5)\n",
    "ht5.Draw()\n",
    "ht5.Fit('gaus')\n",
    "\n",
    "c.cd(6)\n",
    "ht6.Draw()\n",
    "ht6.Fit('gaus')\n",
    "\n",
    "c.cd(7)\n",
    "ht7.Draw()\n",
    "ht7.Fit('gaus')\n",
    "\n",
    "c.Draw()"
   ]
  },
  {
   "cell_type": "code",
   "execution_count": null,
   "id": "f2f90a55",
   "metadata": {},
   "outputs": [],
   "source": [
    "# vv_thr = 0.02\n",
    "\n",
    "# xyc1 = np.where(np.logical_and(mm1_cut, mm1_v > vv_thr)*(mm1_qall < 200))\n",
    "\n",
    "\n",
    "# qq_thr = 5\n",
    "\n",
    "# xyq1 = np.where(np.logical_and(mm1_cut, mm1_qall > qq_thr))\n",
    "\n",
    "qq_thr = 7\n",
    "\n",
    "# xyq1 = np.where(np.logical_and(mm1_cut, mm1_qall > qq_thr))\n",
    "# xyq2 = np.where(np.logical_and(mm2_cut, mm2_qall > qq_thr))\n",
    "# xyq3 = np.where(np.logical_and(mm3_cut, mm3_qall > qq_thr))\n",
    "# xyq4 = np.where(np.logical_and(mm4_cut, mm4_qall > qq_thr))\n",
    "# xyq5 = np.where(np.logical_and(mm5_cut, mm5_qall > qq_thr))\n",
    "# xyq6 = np.where(np.logical_and(mm6_cut, mm6_qall > qq_thr))\n",
    "# xyq7 = np.where(np.logical_and(mm7_cut, mm7_qall > qq_thr))\n",
    "\n",
    "xyq1 = np.where(np.logical_and(cc1, mm1_qall > qq_thr))\n",
    "xyq2 = np.where(np.logical_and(cc2, mm2_qall > qq_thr))\n",
    "xyq3 = np.where(np.logical_and(cc3, mm3_qall > qq_thr))\n",
    "xyq4 = np.where(np.logical_and(cc4, mm4_qall > qq_thr))\n",
    "xyq5 = np.where(np.logical_and(cc5, mm5_qall > qq_thr))\n",
    "xyq6 = np.where(np.logical_and(cc6, mm6_qall > qq_thr))\n",
    "xyq7 = np.where(np.logical_and(cc7, mm7_qall > qq_thr))"
   ]
  },
  {
   "cell_type": "code",
   "execution_count": null,
   "id": "75dd76ac",
   "metadata": {
    "scrolled": false
   },
   "outputs": [],
   "source": [
    "ROOT.gStyle.SetOptFit(1111)\n",
    "c = ROOT.TCanvas(\"cc\", '', 1200, 1800)\n",
    "c.Divide(2, 4)\n",
    "\n",
    "ht1 = ROOT.TH1D('ht1', f'{pnames[0]};T [ps]', 100, -8000,-7300)\n",
    "ht1.FillN(np.count_nonzero(xyq1), 1e3*dt1[xyq1], 0, 1)\n",
    "\n",
    "ht2 = ROOT.TH1D('ht2', f'{pnames[1]};T [ps]', 100, -12700, -12000)\n",
    "ht2.FillN(np.count_nonzero(xyq2), 1e3*dt2[xyq2], 0, 1)\n",
    "\n",
    "ht3 = ROOT.TH1D('ht3', f'{pnames[2]};T [ps]', 100, -12700, -12000)\n",
    "ht3.FillN(np.count_nonzero(xyq3), 1e3*dt3[xyq3], 0, 1)\n",
    "\n",
    "ht4 = ROOT.TH1D('ht4', f'{pnames[3]};T [ps]', 100, -8200,-7000)\n",
    "ht4.FillN(np.count_nonzero(xyq4), 1e3*dt4[xyq4], 0, 1)\n",
    "\n",
    "ht5 = ROOT.TH1D('ht5', f'{pnames[4]};T [ps]', 100, -1500, -700)\n",
    "ht5.FillN(np.count_nonzero(xyq5), 1e3*dt5[xyq5], 0, 1)\n",
    "\n",
    "ht6 = ROOT.TH1D('ht6', f'{pnames[5]};T [ps]', 100,-1300, -800)\n",
    "ht6.FillN(np.count_nonzero(xyq6), 1e3*dt6[xyq6], 0, 1)\n",
    "\n",
    "ht7 = ROOT.TH1D('ht7', f'{pnames[6]};T [ps]', 100,-9000,-8200)\n",
    "ht7.FillN(np.count_nonzero(xyq7), 1e3*dt7[xyq7], 0, 1)\n",
    "\n",
    "c.cd(1)\n",
    "ht1.Draw()\n",
    "ht1.Fit('gaus')\n",
    "\n",
    "c.cd(2)\n",
    "ht2.Draw()\n",
    "ht2.Fit('gaus')\n",
    "\n",
    "c.cd(3)\n",
    "ht3.Draw()\n",
    "ht3.Fit('gaus')\n",
    "\n",
    "c.cd(4)\n",
    "ht4.Draw()\n",
    "ht4.Fit('gaus')\n",
    "\n",
    "c.cd(5)\n",
    "ht5.Draw()\n",
    "ht5.Fit('gaus')\n",
    "\n",
    "c.cd(6)\n",
    "ht6.Draw()\n",
    "ht6.Fit('gaus')\n",
    "\n",
    "c.cd(7)\n",
    "ht7.Draw()\n",
    "ht7.Fit('gaus')\n",
    "\n",
    "c.Draw()"
   ]
  },
  {
   "cell_type": "code",
   "execution_count": null,
   "id": "77bab266",
   "metadata": {},
   "outputs": [],
   "source": [
    "fig, axs = plt.subplots(figsize=(29, 15))\n",
    "axs.hist(ntracks, bins=10, range=(0.0, 15), histtype='step', color='black', lw=2)\n",
    "\n",
    "axs.set_xlabel('N tracks')\n",
    "axs.set_title('Number of tracks from tracker')\n",
    "# axs.legend()\n",
    "plt.show()"
   ]
  },
  {
   "cell_type": "code",
   "execution_count": null,
   "id": "dceb7dc0",
   "metadata": {},
   "outputs": [],
   "source": [
    "# fig, axs = plt.subplots(2,2,figsize=(11, 11))\n",
    "# axs = axs.ravel()\n",
    "# for i in range(1,)\n",
    "# axs.scatter(xy[:,3,:][:, 0], xy[:,3,:][:, 1], s=2, color='black', label='All tracks')\n",
    "# axs.set_xlim(0, 100)\n",
    "# axs.set_ylim(0, 100)\n",
    "# axs.legend(loc=3, markerscale=5)\n",
    "# axs.set_xlabel('X [mm]')\n",
    "# axs.set_ylabel('Y [mm]')\n",
    "# plt.show()"
   ]
  },
  {
   "cell_type": "code",
   "execution_count": null,
   "id": "59b0a1f3",
   "metadata": {},
   "outputs": [],
   "source": [
    "xy"
   ]
  },
  {
   "cell_type": "code",
   "execution_count": null,
   "id": "da12a5da",
   "metadata": {},
   "outputs": [],
   "source": [
    "ntracks[0:10]"
   ]
  },
  {
   "cell_type": "code",
   "execution_count": null,
   "id": "0fab81d4",
   "metadata": {},
   "outputs": [],
   "source": []
  },
  {
   "cell_type": "code",
   "execution_count": null,
   "id": "14b1e269",
   "metadata": {},
   "outputs": [],
   "source": []
  },
  {
   "cell_type": "code",
   "execution_count": null,
   "id": "635d9a21",
   "metadata": {},
   "outputs": [],
   "source": []
  },
  {
   "cell_type": "code",
   "execution_count": null,
   "id": "5a55a5a0",
   "metadata": {},
   "outputs": [],
   "source": []
  },
  {
   "cell_type": "code",
   "execution_count": null,
   "id": "de417163",
   "metadata": {},
   "outputs": [],
   "source": [
    "# track_files = {'/eos/home-i/iangelis/RD51/code/ebeam/analysis/July2023/Run320/anaRun320.root':'tracks'}"
   ]
  },
  {
   "cell_type": "code",
   "execution_count": null,
   "id": "97185228",
   "metadata": {},
   "outputs": [],
   "source": [
    "file_tracker = uproot.open('/eos/home-i/iangelis/RD51/code/ebeam/analysis/July2023/Run320/anaRun320.root')"
   ]
  },
  {
   "cell_type": "code",
   "execution_count": null,
   "id": "3c142bad",
   "metadata": {},
   "outputs": [],
   "source": [
    "srs_tracks = file_tracker[\"tracks\"][\"srstriggerctr\"].array(library=\"np\")\n",
    "ntracks = file_tracker[\"tracks\"][\"ntracks\"].array(library=\"np\")\n",
    "ndetsintrack = file_tracker[\"tracks\"][\"ndetsintrack\"].array(library=\"np\")\n",
    "distnextcluster = file_tracker[\"tracks\"][\"distnextcluster\"].array()\n",
    "trackchi2 = file_tracker[\"tracks\"][\"trackchi2\"].array(library=\"np\")\n",
    "\n",
    "# totchanextcluster = ftracks['tracks']['totchanextcluster'].array(library='np')\n",
    "N = np.size(srs_tracks)\n",
    "distnextcluster = np.asarray(distnextcluster)\n",
    "distnextcluster = np.reshape(distnextcluster, (N, 6))\n",
    "# print(np.shape(distnextcluster))\n",
    "\n",
    "track_cut = np.logical_and(\n",
    "    np.logical_and(ntracks == 1, ndetsintrack == 6),\n",
    "    np.all(distnextcluster >= 600, axis=1),\n",
    ")\n",
    "flag_vec = np.empty(N)\n",
    "flag_vec = np.where(track_cut == True, 1, -111)\n",
    "\n",
    "srst_un, srst_id = np.unique(srs_tracks, return_index=True)\n",
    "\n",
    "# all_srs = np.intersect1d(common_srs, srst_un)\n",
    "# for i in range(N_POOLS):\n",
    "#     masks[i] = np.isin(uniq_srs[i], all_srs)\n",
    "\n",
    "# mask_tracks = np.isin(srst_un, all_srs)\n"
   ]
  },
  {
   "cell_type": "code",
   "execution_count": null,
   "id": "e2d961e4",
   "metadata": {},
   "outputs": [],
   "source": [
    "hits = file_tracker[\"tracks\"][\"hits\"].array()\n",
    "# hits = np.asarray(hits)[:, 3, :]\n",
    "hits = np.asarray(hits)"
   ]
  },
  {
   "cell_type": "code",
   "execution_count": null,
   "id": "2aab34f3",
   "metadata": {},
   "outputs": [],
   "source": [
    "fig, axs = plt.subplots(2,2,figsize=(11, 11))\n",
    "axs = axs.ravel()\n",
    "for i in range(1,7):\n",
    "    axs[i].scatter(hits[:,i,:][:, 0], hits[:,i,:][:, 1], s=2, color='black', label=f'All tracks z={hits[:,i][:, 2][0]}')\n",
    "    axs[i].set_xlim(0, 100)\n",
    "    axs[i].set_ylim(0, 100)\n",
    "    axs[i].legend(loc=3, markerscale=5)\n",
    "    axs[i].set_xlabel('X [mm]')\n",
    "    axs[i].set_ylabel('Y [mm]')\n",
    "plt.show()"
   ]
  },
  {
   "cell_type": "code",
   "execution_count": null,
   "id": "f4289a87",
   "metadata": {},
   "outputs": [],
   "source": [
    "hits[:,:,:][:,1]"
   ]
  },
  {
   "cell_type": "code",
   "execution_count": null,
   "id": "878b43d5",
   "metadata": {},
   "outputs": [],
   "source": [
    "hits[:,,:]"
   ]
  },
  {
   "cell_type": "code",
   "execution_count": null,
   "id": "0c5607b5",
   "metadata": {},
   "outputs": [],
   "source": []
  },
  {
   "cell_type": "code",
   "execution_count": null,
   "id": "f7210d1f",
   "metadata": {},
   "outputs": [],
   "source": []
  },
  {
   "cell_type": "code",
   "execution_count": null,
   "id": "e9751e5e",
   "metadata": {},
   "outputs": [],
   "source": []
  },
  {
   "cell_type": "code",
   "execution_count": null,
   "id": "4455ad0b",
   "metadata": {},
   "outputs": [],
   "source": []
  },
  {
   "cell_type": "code",
   "execution_count": null,
   "id": "88091f10",
   "metadata": {},
   "outputs": [],
   "source": []
  },
  {
   "cell_type": "code",
   "execution_count": null,
   "id": "982cb8e0",
   "metadata": {},
   "outputs": [],
   "source": []
  },
  {
   "cell_type": "code",
   "execution_count": null,
   "id": "3afd52f3",
   "metadata": {},
   "outputs": [],
   "source": []
  },
  {
   "cell_type": "code",
   "execution_count": null,
   "id": "35664c5a",
   "metadata": {
    "scrolled": false
   },
   "outputs": [],
   "source": []
  },
  {
   "cell_type": "code",
   "execution_count": null,
   "id": "a466941d",
   "metadata": {},
   "outputs": [],
   "source": []
  },
  {
   "cell_type": "code",
   "execution_count": null,
   "id": "533d19d5",
   "metadata": {},
   "outputs": [],
   "source": []
  },
  {
   "cell_type": "code",
   "execution_count": null,
   "id": "a45dced7",
   "metadata": {},
   "outputs": [],
   "source": [
    "#define the cuts\n",
    "mm_basic_cut = []\n",
    "\n",
    "mcp_overflow = (mcp1_v>0)*(mcp1_v<=0.74)\n",
    "mcp_basic_cut = mcp_overflow\n",
    "\n",
    "for i in range(NPADS):       \n",
    "    mm_overflow = (mm_vs[i] > 0.)*(mm_vs[i] < 0.36)*(mm_qalls[i] > 0)*(mm_qalls[i] < 250)\n",
    "    qall_line = (mm_qalls[i] > 30. * mm_vs[i])\n",
    "    cut = np.logical_and(mm_overflow * mcp_basic_cut, qall_line)\n",
    "    mm_basic_cut.append(cut)\n"
   ]
  },
  {
   "cell_type": "code",
   "execution_count": null,
   "id": "b83378c0",
   "metadata": {},
   "outputs": [],
   "source": []
  },
  {
   "cell_type": "code",
   "execution_count": null,
   "id": "1f542a49",
   "metadata": {},
   "outputs": [],
   "source": []
  },
  {
   "cell_type": "code",
   "execution_count": null,
   "id": "79a3b4c0",
   "metadata": {},
   "outputs": [],
   "source": []
  },
  {
   "cell_type": "code",
   "execution_count": null,
   "id": "81697ccf",
   "metadata": {},
   "outputs": [],
   "source": []
  },
  {
   "cell_type": "code",
   "execution_count": null,
   "id": "c715366e",
   "metadata": {},
   "outputs": [],
   "source": []
  },
  {
   "cell_type": "code",
   "execution_count": null,
   "id": "f0a896e0",
   "metadata": {},
   "outputs": [],
   "source": []
  },
  {
   "cell_type": "code",
   "execution_count": null,
   "id": "4edc5c4a",
   "metadata": {},
   "outputs": [],
   "source": []
  },
  {
   "cell_type": "code",
   "execution_count": null,
   "id": "f9583b45",
   "metadata": {},
   "outputs": [],
   "source": []
  },
  {
   "cell_type": "code",
   "execution_count": null,
   "id": "c8f72326",
   "metadata": {},
   "outputs": [],
   "source": []
  },
  {
   "cell_type": "code",
   "execution_count": null,
   "id": "69237a65",
   "metadata": {
    "scrolled": true
   },
   "outputs": [],
   "source": []
  },
  {
   "cell_type": "code",
   "execution_count": null,
   "id": "a174605c",
   "metadata": {},
   "outputs": [],
   "source": []
  },
  {
   "cell_type": "code",
   "execution_count": null,
   "id": "d5d1b67f",
   "metadata": {},
   "outputs": [],
   "source": []
  },
  {
   "cell_type": "code",
   "execution_count": null,
   "id": "80d7307f",
   "metadata": {},
   "outputs": [],
   "source": []
  },
  {
   "cell_type": "code",
   "execution_count": null,
   "id": "8dc66f9a",
   "metadata": {},
   "outputs": [],
   "source": []
  },
  {
   "cell_type": "code",
   "execution_count": null,
   "id": "317ecef1",
   "metadata": {},
   "outputs": [],
   "source": []
  },
  {
   "cell_type": "code",
   "execution_count": null,
   "id": "fa5fa41b",
   "metadata": {},
   "outputs": [],
   "source": [
    "# cmap = plt.get_cmap('viridis')\n",
    "cmap = plt.get_cmap('plasma')\n",
    "pcolors = [cmap(i) for i in np.linspace(0, 1, 5)]"
   ]
  },
  {
   "cell_type": "code",
   "execution_count": null,
   "id": "4a57ac42",
   "metadata": {},
   "outputs": [],
   "source": []
  },
  {
   "cell_type": "code",
   "execution_count": null,
   "id": "a25fceb8",
   "metadata": {},
   "outputs": [],
   "source": []
  },
  {
   "cell_type": "code",
   "execution_count": null,
   "id": "4ef9b5b4",
   "metadata": {},
   "outputs": [],
   "source": []
  },
  {
   "cell_type": "code",
   "execution_count": null,
   "id": "dc4ec27b",
   "metadata": {},
   "outputs": [],
   "source": []
  },
  {
   "cell_type": "code",
   "execution_count": null,
   "id": "903160cf",
   "metadata": {},
   "outputs": [],
   "source": []
  },
  {
   "cell_type": "code",
   "execution_count": null,
   "id": "fbb9e17b",
   "metadata": {},
   "outputs": [],
   "source": [
    "# qlow = 0.5\n",
    "# qup = 80\n",
    "# nppe = 500\n",
    "# vl1in1, vu1in1, mdt1in1, sdt1in1, emdt1in1, esdt1in1 = fff(mm1_qall[xyc_inpad1], dt1[xyc_inpad1], qlow, qup, nppe, False, trange=[tranges[0][0], tranges[0][1]])\n",
    "\n",
    "# xxs11 = (vl1in1+vu1in1)*0.5\n",
    "# exs11 = (vl1in1-vu1in1)*0.5\n"
   ]
  },
  {
   "cell_type": "code",
   "execution_count": null,
   "id": "7fcb77a5",
   "metadata": {},
   "outputs": [],
   "source": [
    "# fig, axs = plt.subplots(2, 2, figsize=(22, 12))\n",
    "# iistart, iistop = 0, -1\n",
    "# axs = axs.ravel()\n",
    "\n",
    "# axs[0].errorbar(xxs23[iistart:iistop], mdt2in3[iistart:iistop], xerr=exs23[iistart:iistop], yerr=emdt2in3[iistart:iistop], fmt='o', ms=7, color=pcolors[0], label=f'{pnames[1]}, hit {pnames[2]}')\n",
    "\n",
    "# for i in range(4):\n",
    "#     axs[i].grid()\n",
    "#     axs[i].set_xlim(None, 50)\n",
    "# #     axs[i].set_ylim(0, 1000)\n",
    "# #     axs[i].set_ylim(show_ranges[i][0], show_ranges[i][1])\n",
    "#     axs[i].set_xlabel('Total Charge [pC]')\n",
    "#     axs[i].set_ylabel('SAT [ps]')\n",
    "#     axs[i].legend(loc=1)\n",
    "\n",
    "# # axs[0].set_xlim(0, 5)\n",
    "# plt.show()\n"
   ]
  },
  {
   "cell_type": "code",
   "execution_count": null,
   "id": "a88349f5",
   "metadata": {},
   "outputs": [],
   "source": [
    "# fig, axs = plt.subplots(2, 2, figsize=(22, 12))\n",
    "# iistart, iistop = 0, -1\n",
    "# axs = axs.ravel()\n",
    "\n",
    "# axs[0].errorbar(xxs23[iistart:iistop], sdt2in3[iistart:iistop], xerr=exs23[iistart:iistop], yerr=esdt2in3[iistart:iistop], fmt='o', ms=7, color=pcolors[0], label=f'{pnames[1]}, hit {pnames[2]}')\n",
    "\n",
    "\n",
    "\n",
    "# for i in range(4):\n",
    "#     axs[i].grid()\n",
    "#     axs[i].set_xlim(None, 50)\n",
    "# #     axs[i].set_ylim(0, 1000)\n",
    "# #     axs[i].set_ylim(show_ranges[i][0], show_ranges[i][1])\n",
    "#     axs[i].set_xlabel('Total Charge [pC]')\n",
    "#     axs[i].set_ylabel('Resolution [ps]')\n",
    "#     axs[i].legend(loc=1)\n",
    "\n",
    "# # axs[0].set_xlim(0, 5)\n",
    "# plt.show()\n"
   ]
  },
  {
   "cell_type": "code",
   "execution_count": null,
   "id": "962043d7",
   "metadata": {},
   "outputs": [],
   "source": []
  },
  {
   "cell_type": "markdown",
   "id": "19d8bffb",
   "metadata": {},
   "source": [
    "# Total Charge based Active Pad"
   ]
  },
  {
   "cell_type": "code",
   "execution_count": null,
   "id": "65ef7f44",
   "metadata": {},
   "outputs": [],
   "source": []
  },
  {
   "cell_type": "code",
   "execution_count": null,
   "id": "2c7a76dc",
   "metadata": {},
   "outputs": [],
   "source": [
    "\n"
   ]
  },
  {
   "cell_type": "code",
   "execution_count": null,
   "id": "317182b7",
   "metadata": {},
   "outputs": [],
   "source": []
  },
  {
   "cell_type": "code",
   "execution_count": null,
   "id": "28f587ca",
   "metadata": {},
   "outputs": [],
   "source": []
  },
  {
   "cell_type": "code",
   "execution_count": null,
   "id": "c0156614",
   "metadata": {},
   "outputs": [],
   "source": []
  },
  {
   "cell_type": "code",
   "execution_count": null,
   "id": "37187bd6",
   "metadata": {},
   "outputs": [],
   "source": []
  },
  {
   "cell_type": "code",
   "execution_count": null,
   "id": "96ab3297",
   "metadata": {},
   "outputs": [],
   "source": []
  },
  {
   "cell_type": "code",
   "execution_count": null,
   "id": "b17415a9",
   "metadata": {},
   "outputs": [],
   "source": []
  },
  {
   "cell_type": "code",
   "execution_count": null,
   "id": "f50cbf46",
   "metadata": {},
   "outputs": [],
   "source": []
  },
  {
   "cell_type": "code",
   "execution_count": null,
   "id": "ebb09798",
   "metadata": {},
   "outputs": [],
   "source": []
  },
  {
   "cell_type": "code",
   "execution_count": null,
   "id": "2c48bf5a",
   "metadata": {
    "scrolled": true
   },
   "outputs": [],
   "source": []
  },
  {
   "cell_type": "code",
   "execution_count": null,
   "id": "de820977",
   "metadata": {},
   "outputs": [],
   "source": [
    "# #same\n",
    "# fig, axs = plt.subplots(2, 2, figsize=(22, 12))\n",
    "# iistart, iistop = 0, -1\n",
    "# axs = axs.ravel()\n",
    "# a = np.linspace(5, 80, 300)\n",
    "\n",
    "# axs[0].errorbar(xxsc22_qa[iistart:iistop], mdt2in2_qa[iistart:iistop], xerr=exsc22_qa[iistart:iistop], yerr=emdt2in2_qa[iistart:iistop], fmt='o', ms=7, color=colors[1], label=f'{pnames[1]}, hit {pnames[1]}')\n",
    "# axs[0].plot(a, expo2_np(a, pars2in2_qa), color=colors[1])\n",
    "\n",
    "# for i in range(4):\n",
    "#     axs[i].grid()\n",
    "#     axs[i].set_xlim(None, 80)\n",
    "# #     axs[i].set_ylim(0, 1000)\n",
    "# #     axs[i].set_ylim(show_ranges[i][0], show_ranges[i][1])\n",
    "#     axs[i].set_xlabel('Total Charge [pC]')\n",
    "#     axs[i].set_ylabel('SAT [ps]')\n",
    "#     axs[i].legend(loc=1)\n",
    "\n",
    "# # axs[0].set_xlim(0, 5)\n",
    "# plt.show()\n"
   ]
  },
  {
   "cell_type": "code",
   "execution_count": null,
   "id": "8b70d35f",
   "metadata": {},
   "outputs": [],
   "source": []
  },
  {
   "cell_type": "code",
   "execution_count": null,
   "id": "4d7af8f3",
   "metadata": {},
   "outputs": [],
   "source": []
  },
  {
   "cell_type": "code",
   "execution_count": null,
   "id": "c427ec0e",
   "metadata": {},
   "outputs": [],
   "source": []
  },
  {
   "cell_type": "code",
   "execution_count": null,
   "id": "531d0b2c",
   "metadata": {},
   "outputs": [],
   "source": [
    "# qlow = 0.5\n",
    "# qup = 80\n",
    "\n",
    "# nppe = 500\n",
    "\n",
    "\n",
    "# _,_, mdt1in1_qa_cor, sdt1in1_qa_cor, emdt1in1_qa_cor, esdt1in1_qa_cor = fff(mm1_qall[xyc_pad1_qa], dt1[xyc_pad1_qa]-expo2_np(mm1_qall[xyc_pad1_qa], pars1in1_qa)*1e-3, qlow, qup, nppe, False, trange=[-5000,5000])"
   ]
  },
  {
   "cell_type": "code",
   "execution_count": null,
   "id": "10d96242",
   "metadata": {},
   "outputs": [],
   "source": [
    "# #same\n",
    "# fig, axs = plt.subplots(2, 2, figsize=(22, 12))\n",
    "# iistart, iistop = 0, -1\n",
    "# axs = axs.ravel()\n",
    "\n",
    "# axs[0].errorbar(xxsc22_qa[iistart:iistop], mdt2in2_qa_cor[iistart:iistop], xerr=exsc22_qa[iistart:iistop], yerr=emdt2in2_qa_cor[iistart:iistop], fmt='o', ms=7, color=colors[1], label=f'{pnames[1]}, hit {pnames[1]}')\n",
    "\n",
    "\n",
    "# for i in range(4):\n",
    "#     axs[i].grid()\n",
    "#     axs[i].set_xlim(None, 80)\n",
    "# #     axs[i].set_ylim(0, 1000)\n",
    "# #     axs[i].set_ylim(show_ranges[i][0], show_ranges[i][1])\n",
    "#     axs[i].set_xlabel('Total Charge [pC]')\n",
    "#     axs[i].set_ylabel('SAT [ps]')\n",
    "#     axs[i].legend(loc=1)\n",
    "\n",
    "# # axs[0].set_xlim(0, 5)\n",
    "# plt.show()\n"
   ]
  },
  {
   "cell_type": "code",
   "execution_count": null,
   "id": "a1273129",
   "metadata": {},
   "outputs": [],
   "source": []
  },
  {
   "cell_type": "code",
   "execution_count": null,
   "id": "037d051c",
   "metadata": {},
   "outputs": [],
   "source": []
  },
  {
   "cell_type": "code",
   "execution_count": null,
   "id": "d7081598",
   "metadata": {},
   "outputs": [],
   "source": []
  },
  {
   "cell_type": "code",
   "execution_count": null,
   "id": "ffc0b5d1",
   "metadata": {},
   "outputs": [],
   "source": []
  },
  {
   "cell_type": "code",
   "execution_count": null,
   "id": "d818e4c6",
   "metadata": {},
   "outputs": [],
   "source": []
  },
  {
   "cell_type": "code",
   "execution_count": null,
   "id": "7037c0e3",
   "metadata": {},
   "outputs": [],
   "source": [
    "# spars1in1_qa = sat_fit(xxsc11_qa, sdt1in1_qa, exsc11_qa, esdt1in1_qa, iistart=0, iistop=None, xl=0.5, xu=80, pars=[-0.1,3.0,-1,0.5, 40])\n"
   ]
  },
  {
   "cell_type": "code",
   "execution_count": null,
   "id": "4c51f8fc",
   "metadata": {},
   "outputs": [],
   "source": [
    "# #same\n",
    "# fig, axs = plt.subplots(2, 2, figsize=(22, 12))\n",
    "# iistart, iistop = 0, -1\n",
    "# axs = axs.ravel()\n",
    "# a = np.linspace(5, 80, 300)\n",
    "\n",
    "# axs[0].errorbar(xxsc22_qa[iistart:iistop], sdt2in2_qa[iistart:iistop], xerr=exsc22_qa[iistart:iistop], yerr=esdt2in2_qa[iistart:iistop], fmt='o', ms=7, color=colors[1], label=f'{pnames[1]}, hit {pnames[1]}')\n",
    "# axs[0].plot(a, expo2_np(a, spars2in2_qa), color=colors[1])\n",
    "\n",
    "\n",
    "\n",
    "\n",
    "# for i in range(4):\n",
    "#     axs[i].grid()\n",
    "#     axs[i].set_xlim(None, 80)\n",
    "# #     axs[i].set_ylim(0, 1000)\n",
    "# #     axs[i].set_ylim(show_ranges[i][0], show_ranges[i][1])\n",
    "#     axs[i].set_xlabel('Total Charge [pC]')\n",
    "#     axs[i].set_ylabel('Resolution [ps]')\n",
    "#     axs[i].legend(loc=1)\n",
    "\n",
    "# # axs[0].set_xlim(0, 5)\n",
    "# plt.show()\n"
   ]
  },
  {
   "cell_type": "code",
   "execution_count": null,
   "id": "2fd31c9f",
   "metadata": {},
   "outputs": [],
   "source": []
  },
  {
   "cell_type": "code",
   "execution_count": null,
   "id": "24267d20",
   "metadata": {},
   "outputs": [],
   "source": []
  },
  {
   "cell_type": "code",
   "execution_count": null,
   "id": "d92b650e",
   "metadata": {},
   "outputs": [],
   "source": []
  },
  {
   "cell_type": "code",
   "execution_count": null,
   "id": "cf12f1df",
   "metadata": {},
   "outputs": [],
   "source": [
    "# gpull11 = (dt1[xyc_pad1_qa]-expo2_np(mm1_qall[xyc_pad1_qa], pars1in1_qa)*1e-3)/(expo2_np(mm1_qall[xyc_pad1_qa], spars1in1_qa)*1e-3)"
   ]
  },
  {
   "cell_type": "code",
   "execution_count": null,
   "id": "31bef4bb",
   "metadata": {},
   "outputs": [],
   "source": [
    "# cg = ROOT.TCanvas('cg', '', 1000, 800)\n",
    "# cg.Divide(2,2)\n",
    "\n",
    "# hgpull11 = ROOT.TH1D('hgp11', '', 100, -10,10)\n",
    "# hgpull11.FillN(gpull11.size, gpull11, 0, 1)\n",
    "\n",
    "# cg.cd(1)\n",
    "# hgpull21.Draw()\n",
    "# hgpull21.Fit('gaus')\n",
    "\n",
    "# cg.Draw()"
   ]
  },
  {
   "cell_type": "code",
   "execution_count": null,
   "id": "7637b714",
   "metadata": {},
   "outputs": [],
   "source": []
  },
  {
   "cell_type": "code",
   "execution_count": null,
   "id": "705a7de2",
   "metadata": {},
   "outputs": [],
   "source": []
  },
  {
   "cell_type": "code",
   "execution_count": null,
   "id": "cce59b07",
   "metadata": {},
   "outputs": [],
   "source": []
  },
  {
   "cell_type": "code",
   "execution_count": null,
   "id": "55233f58",
   "metadata": {},
   "outputs": [],
   "source": []
  },
  {
   "cell_type": "code",
   "execution_count": null,
   "id": "382e8628",
   "metadata": {},
   "outputs": [],
   "source": []
  },
  {
   "cell_type": "code",
   "execution_count": null,
   "id": "7c891b37",
   "metadata": {},
   "outputs": [],
   "source": []
  },
  {
   "cell_type": "code",
   "execution_count": null,
   "id": "bc1a8b55",
   "metadata": {},
   "outputs": [],
   "source": []
  },
  {
   "cell_type": "markdown",
   "id": "d99de01e",
   "metadata": {},
   "source": [
    "# Pad Centers"
   ]
  },
  {
   "cell_type": "code",
   "execution_count": null,
   "id": "e3bf99fc",
   "metadata": {},
   "outputs": [],
   "source": []
  },
  {
   "cell_type": "code",
   "execution_count": null,
   "id": "e37195cf",
   "metadata": {},
   "outputs": [],
   "source": []
  },
  {
   "cell_type": "code",
   "execution_count": null,
   "id": "918a8f9e",
   "metadata": {},
   "outputs": [],
   "source": []
  },
  {
   "cell_type": "code",
   "execution_count": null,
   "id": "4a68ff20",
   "metadata": {},
   "outputs": [],
   "source": []
  },
  {
   "cell_type": "code",
   "execution_count": null,
   "id": "dc91b79b",
   "metadata": {},
   "outputs": [],
   "source": []
  },
  {
   "cell_type": "code",
   "execution_count": null,
   "id": "e2a14f35",
   "metadata": {},
   "outputs": [],
   "source": []
  },
  {
   "cell_type": "code",
   "execution_count": null,
   "id": "9671baec",
   "metadata": {},
   "outputs": [],
   "source": []
  },
  {
   "cell_type": "code",
   "execution_count": null,
   "id": "a5683e95",
   "metadata": {},
   "outputs": [],
   "source": []
  },
  {
   "cell_type": "code",
   "execution_count": null,
   "id": "d96eb9c4",
   "metadata": {},
   "outputs": [],
   "source": []
  },
  {
   "cell_type": "code",
   "execution_count": null,
   "id": "dd253c2f",
   "metadata": {},
   "outputs": [],
   "source": []
  },
  {
   "cell_type": "code",
   "execution_count": null,
   "id": "2f8f4ebc",
   "metadata": {},
   "outputs": [],
   "source": []
  },
  {
   "cell_type": "code",
   "execution_count": null,
   "id": "b05a9e3f",
   "metadata": {},
   "outputs": [],
   "source": [
    "# tranges_xx = [\n",
    "#  [-12000, -11000],\n",
    "#  [-16500, -16000],\n",
    "#  [-15700, -15000],\n",
    "#  [-17000, -13000],\n",
    "# ]\n",
    "\n",
    "# hmean_sat = np.zeros((4, 10, 10))\n",
    "# hmean_rms = np.zeros((4, 10, 10))\n",
    "# htemps1 = []\n",
    "# htemps2 = []\n",
    "# htemps3 = []\n",
    "# htemps4 = []\n",
    "\n",
    "# htemps = [htemps1,htemps2,htemps3,htemps4]\n",
    "\n",
    "# for ip,jp in enumerate(pad_order):\n",
    "#     xbins = np.linspace(centers_s[0][jp]-5, centers_s[0][jp]+5, 11)\n",
    "#     ybins = np.linspace(centers_s[1][jp]-5, centers_s[1][jp]+5, 11)\n",
    "    \n",
    "#     for j in range(1, 11):\n",
    "#         for i in range(1,11):\n",
    "    \n",
    "#             xybin_cut = np.where(np.logical_and((x_s > xbins[i-1])*(x_s < xbins[i]), (y_s > ybins[j-1])*(y_s < ybins[j])))\n",
    "# #             qq_cut = mm_qalls[ip][xybin_cut]>3\n",
    "#         #             qq_in_bin = mm1_qall[box_cut][xybin_cut]\n",
    "#             dt_in_bin = 1e3*mm_dts[jp][xybin_cut]\n",
    "#             hxtemp = ROOT.TH1D(f'htemp{jp}_{i}_{j}', '', 100, tranges_xx[jp][0], tranges_xx[jp][1])\n",
    "\n",
    "#             #             hxtemp.FillN(qq_in_bin.size, qq_in_bin, 0)\n",
    "#             hxtemp.FillN(dt_in_bin.size, dt_in_bin, 0)\n",
    "#             hxtemp.Fit('gaus', 'Q')\n",
    "#             rsf = hxtemp.Fit('gaus', 'SQ')\n",
    "#             if rsf.Get():\n",
    "#                 hmean_sat[jp,i-1,j-1] = rsf.Parameter(1)\n",
    "#                 hmean_rms[jp,i-1,j-1] = rsf.Parameter(2) \n",
    "            \n",
    "#             htemps[jp].append(hxtemp)\n",
    "# #     break"
   ]
  },
  {
   "cell_type": "code",
   "execution_count": null,
   "id": "8261513d",
   "metadata": {},
   "outputs": [],
   "source": [
    "\n"
   ]
  },
  {
   "cell_type": "code",
   "execution_count": null,
   "id": "630d88d2",
   "metadata": {},
   "outputs": [],
   "source": [
    "# fig, axs = plt.subplots(10, 10, figsize=(100, 100))\n",
    "# for ip,jp in enumerate(pad_order):\n",
    "#     xbins = np.linspace(centers_s[0][jp]-5, centers_s[0][jp]+5, 11)\n",
    "#     ybins = np.linspace(centers_s[1][jp]-5, centers_s[1][jp]+5, 11)\n",
    "#     for j in range(1, 11):\n",
    "#         for i in range(1,11):\n",
    "    \n",
    "#             xybin_cut = np.where(np.logical_and((x_s > xbins[i-1])*(x_s < xbins[i]), (y_s > ybins[j-1])*(y_s < ybins[j])))\n",
    "#             axs[j-1,i-1].scatter(x_s[xybin_cut], y_s[xybin_cut])\n",
    "#             axs[j-1,i-1].set_xlim(-11,11)\n",
    "#             axs[j-1,i-1].set_ylim(-11,11)\n",
    "#     break\n",
    "# plt.show()"
   ]
  },
  {
   "cell_type": "code",
   "execution_count": null,
   "id": "762e2e97",
   "metadata": {
    "scrolled": false
   },
   "outputs": [],
   "source": [
    "# %jsroot off\n",
    "# c = ROOT.TCanvas('cbins','', 8000, 8000)\n",
    "# c.Divide(10, 10)\n",
    "# for i in range(0, 100):\n",
    "#     c.cd(i+1)\n",
    "#     htemps[1][i].Draw()\n",
    "# #     htemps[i].Fit('gaus', 'Q')\n",
    "\n",
    "# c.Draw()"
   ]
  },
  {
   "cell_type": "code",
   "execution_count": null,
   "id": "c894575c",
   "metadata": {},
   "outputs": [],
   "source": []
  },
  {
   "cell_type": "code",
   "execution_count": null,
   "id": "8fa3ea36",
   "metadata": {},
   "outputs": [],
   "source": []
  },
  {
   "cell_type": "code",
   "execution_count": null,
   "id": "9d5b21db",
   "metadata": {},
   "outputs": [],
   "source": []
  },
  {
   "cell_type": "code",
   "execution_count": null,
   "id": "bd99c02e",
   "metadata": {
    "scrolled": false
   },
   "outputs": [],
   "source": []
  },
  {
   "cell_type": "code",
   "execution_count": null,
   "id": "e046b077",
   "metadata": {},
   "outputs": [],
   "source": [
    "ROOT.gStyle.SetOptStat()"
   ]
  },
  {
   "cell_type": "code",
   "execution_count": null,
   "id": "f577a7c9",
   "metadata": {},
   "outputs": [],
   "source": []
  },
  {
   "cell_type": "code",
   "execution_count": null,
   "id": "67cbdfd9",
   "metadata": {},
   "outputs": [],
   "source": []
  },
  {
   "cell_type": "code",
   "execution_count": null,
   "id": "820a7ca8",
   "metadata": {},
   "outputs": [],
   "source": []
  },
  {
   "cell_type": "code",
   "execution_count": null,
   "id": "294e582b",
   "metadata": {},
   "outputs": [],
   "source": []
  },
  {
   "cell_type": "code",
   "execution_count": null,
   "id": "1df6807b",
   "metadata": {},
   "outputs": [],
   "source": []
  },
  {
   "cell_type": "code",
   "execution_count": null,
   "id": "93725832",
   "metadata": {},
   "outputs": [],
   "source": []
  },
  {
   "cell_type": "code",
   "execution_count": null,
   "id": "e335ead5",
   "metadata": {},
   "outputs": [],
   "source": []
  },
  {
   "cell_type": "markdown",
   "id": "8fde6c89",
   "metadata": {},
   "source": [
    "# Multiplicity"
   ]
  },
  {
   "cell_type": "code",
   "execution_count": null,
   "id": "65c4f79c",
   "metadata": {},
   "outputs": [],
   "source": []
  },
  {
   "cell_type": "code",
   "execution_count": null,
   "id": "4845d122",
   "metadata": {},
   "outputs": [],
   "source": []
  },
  {
   "cell_type": "code",
   "execution_count": null,
   "id": "a12d3bd2",
   "metadata": {},
   "outputs": [],
   "source": []
  },
  {
   "cell_type": "code",
   "execution_count": null,
   "id": "30375626",
   "metadata": {},
   "outputs": [],
   "source": []
  },
  {
   "cell_type": "code",
   "execution_count": null,
   "id": "52cd0206",
   "metadata": {},
   "outputs": [],
   "source": []
  },
  {
   "cell_type": "code",
   "execution_count": null,
   "id": "0a2e2a1c",
   "metadata": {},
   "outputs": [],
   "source": []
  },
  {
   "cell_type": "code",
   "execution_count": null,
   "id": "295ce79a",
   "metadata": {},
   "outputs": [],
   "source": []
  },
  {
   "cell_type": "code",
   "execution_count": null,
   "id": "bf69457d",
   "metadata": {},
   "outputs": [],
   "source": []
  },
  {
   "cell_type": "code",
   "execution_count": null,
   "id": "365133e2",
   "metadata": {},
   "outputs": [],
   "source": []
  },
  {
   "cell_type": "code",
   "execution_count": null,
   "id": "c840cb21",
   "metadata": {},
   "outputs": [],
   "source": [
    "# dt1c = np.zeros((N, 2))\n",
    "\n",
    "# dt1c[xyc_pad1_qa, 0] = 1e3*dt1[xyc_pad1_qa]-expo2_np(mm1_qall[xyc_pad1_qa], pars1in1_qa)\n",
    "# dt1c[xyc_pad1_qa, 1] = expo2_np(mm1_qall[xyc_pad1_qa], spars1in1_qa)"
   ]
  },
  {
   "cell_type": "code",
   "execution_count": null,
   "id": "03c56bd1",
   "metadata": {},
   "outputs": [],
   "source": [
    "class share_fun():\n",
    "    def __init__(self, times, resols):\n",
    "        self.times = times\n",
    "        self.resols = resols\n",
    "    def __call__(self, params):\n",
    "        test = params[0]\n",
    "        res = np.sum( np.square( test - self.times ) / np.square( self.resols ) )\n",
    "        return res\n",
    "\n"
   ]
  },
  {
   "cell_type": "code",
   "execution_count": null,
   "id": "5b0b5831",
   "metadata": {},
   "outputs": [],
   "source": []
  },
  {
   "cell_type": "code",
   "execution_count": null,
   "id": "6c215f67",
   "metadata": {},
   "outputs": [],
   "source": []
  },
  {
   "cell_type": "code",
   "execution_count": null,
   "id": "869e5c34",
   "metadata": {},
   "outputs": [],
   "source": []
  },
  {
   "cell_type": "code",
   "execution_count": null,
   "id": "f657b871",
   "metadata": {},
   "outputs": [],
   "source": []
  },
  {
   "cell_type": "code",
   "execution_count": null,
   "id": "c15d9f17",
   "metadata": {
    "scrolled": false
   },
   "outputs": [],
   "source": []
  },
  {
   "cell_type": "code",
   "execution_count": null,
   "id": "90a71e47",
   "metadata": {},
   "outputs": [],
   "source": []
  },
  {
   "cell_type": "code",
   "execution_count": null,
   "id": "e53b766f",
   "metadata": {},
   "outputs": [],
   "source": []
  }
 ],
 "metadata": {
  "@webio": {
   "lastCommId": null,
   "lastKernelId": null
  },
  "kernelspec": {
   "display_name": "Python 3",
   "language": "python",
   "name": "python3"
  },
  "language_info": {
   "codemirror_mode": {
    "name": "ipython",
    "version": 3
   },
   "file_extension": ".py",
   "mimetype": "text/x-python",
   "name": "python",
   "nbconvert_exporter": "python",
   "pygments_lexer": "ipython3",
   "version": "3.9.12"
  }
 },
 "nbformat": 4,
 "nbformat_minor": 5
}
